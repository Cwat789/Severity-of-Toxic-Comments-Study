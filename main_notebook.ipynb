{
  "nbformat": 4,
  "nbformat_minor": 0,
  "metadata": {
    "colab": {
      "name": "main notebook.ipynb",
      "provenance": [],
      "collapsed_sections": [],
      "authorship_tag": "ABX9TyNllxUwRhBxu67tqNHZ7GJC",
      "include_colab_link": true
    },
    "kernelspec": {
      "name": "python3",
      "display_name": "Python 3"
    },
    "language_info": {
      "name": "python"
    }
  },
  "cells": [
    {
      "cell_type": "markdown",
      "metadata": {
        "id": "view-in-github",
        "colab_type": "text"
      },
      "source": [
        "<a href=\"https://colab.research.google.com/github/Cwat789/Severity-of-Toxic-Comments-Study/blob/main/main_notebook.ipynb\" target=\"_parent\"><img src=\"https://colab.research.google.com/assets/colab-badge.svg\" alt=\"Open In Colab\"/></a>"
      ]
    },
    {
      "cell_type": "markdown",
      "metadata": {
        "id": "qCtlnmtqa2cP"
      },
      "source": [
        "# Jigsaw Rate Severity of Toxic Comments \n",
        "## Rank relative ratings of toxicity between comments\n",
        "Competition: [Kaggle Link](https://www.kaggle.com/c/jigsaw-toxic-severity-rating)\n",
        "\n",
        "Deadline: February 7, 2022\n",
        "\n",
        "Authors: Connor Watson, Rianne Garrido"
      ]
    },
    {
      "cell_type": "code",
      "metadata": {
        "id": "im9qi__2aqaj"
      },
      "source": [
        ""
      ],
      "execution_count": null,
      "outputs": []
    }
  ]
}